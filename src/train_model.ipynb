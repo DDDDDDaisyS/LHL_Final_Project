{
 "cells": [
  {
   "cell_type": "code",
   "execution_count": 2,
   "id": "03e034cb-4c9a-4523-a6a6-6a755df5a03f",
   "metadata": {},
   "outputs": [],
   "source": [
    "import numpy as np\n",
    "import os\n",
    "from tensorflow.keras.utils import to_categorical\n",
    "from tensorflow.keras.models import Sequential\n",
    "from tensorflow.keras.layers import Bidirectional, LSTM, Dense, Dropout, Flatten, TimeDistributed\n",
    "from tensorflow.keras.optimizers import Adam\n",
    "from tensorflow.keras.callbacks import TensorBoard"
   ]
  },
  {
   "cell_type": "code",
   "execution_count": 3,
   "id": "dc70541d-0eb1-41a7-8a38-fd1d7bab40b9",
   "metadata": {},
   "outputs": [
    {
     "name": "stdout",
     "output_type": "stream",
     "text": [
      "(16000, 30, 144) (16000, 10)\n"
     ]
    }
   ],
   "source": [
    "# load processed data\n",
    "X = np.load('data/augmented_data/X.npy')\n",
    "y = to_categorical(np.load('data/augmented_data/y.npy')) # was labels\n",
    "\n",
    "# check shape\n",
    "print(X.shape, y.shape)"
   ]
  },
  {
   "cell_type": "markdown",
   "id": "d06173bb-b722-497c-bef5-62c604777af1",
   "metadata": {},
   "source": [
    "### Build RNN Model (Bidirectional LSTM)"
   ]
  },
  {
   "cell_type": "code",
   "execution_count": 4,
   "id": "8acd4d43-7714-4769-835c-a16d3676002c",
   "metadata": {},
   "outputs": [],
   "source": [
    "log_dir = os.path.join('Logs')\n",
    "tb_callback = TensorBoard(log_dir=log_dir)"
   ]
  },
  {
   "cell_type": "code",
   "execution_count": 5,
   "id": "ea4fed32-92e1-499b-a4d9-d9209fc0f00a",
   "metadata": {},
   "outputs": [
    {
     "name": "stdout",
     "output_type": "stream",
     "text": [
      "Model: \"sequential\"\n",
      "_________________________________________________________________\n",
      " Layer (type)                Output Shape              Param #   \n",
      "=================================================================\n",
      " bidirectional (Bidirectiona  (None, 30, 256)          279552    \n",
      " l)                                                              \n",
      "                                                                 \n",
      " time_distributed (TimeDistr  (None, 30, 128)          32896     \n",
      " ibuted)                                                         \n",
      "                                                                 \n",
      " flatten (Flatten)           (None, 3840)              0         \n",
      "                                                                 \n",
      " dense_1 (Dense)             (None, 256)               983296    \n",
      "                                                                 \n",
      " dense_2 (Dense)             (None, 64)                16448     \n",
      "                                                                 \n",
      " dense_3 (Dense)             (None, 10)                650       \n",
      "                                                                 \n",
      "=================================================================\n",
      "Total params: 1,312,842\n",
      "Trainable params: 1,312,842\n",
      "Non-trainable params: 0\n",
      "_________________________________________________________________\n"
     ]
    }
   ],
   "source": [
    "model = Sequential()\n",
    "model.add(Bidirectional(LSTM (128, return_sequences=True, dropout=0.50), input_shape=(30,144)))\n",
    "model.add(TimeDistributed(Dense(128, activation='relu')))\n",
    "model.add(Flatten())\n",
    "model.add(Dense(256, activation='relu'))\n",
    "model.add(Dense(64, activation='relu'))\n",
    "model.add(Dense(10, activation='softmax'))\n",
    "\n",
    "model.compile(optimizer='Adam', loss='categorical_crossentropy', metrics=['categorical_accuracy'])\n",
    "\n",
    "model.summary()"
   ]
  },
  {
   "cell_type": "code",
   "execution_count": 6,
   "id": "4058c98a-19cd-4fd5-a171-37c8c62cd064",
   "metadata": {},
   "outputs": [
    {
     "name": "stdout",
     "output_type": "stream",
     "text": [
      "Epoch 1/15\n",
      "213/213 [==============================] - 6s 14ms/step - loss: 0.4441 - categorical_accuracy: 0.8374 - val_loss: 0.1636 - val_categorical_accuracy: 0.9408\n",
      "Epoch 2/15\n",
      "213/213 [==============================] - 2s 12ms/step - loss: 0.0775 - categorical_accuracy: 0.9746 - val_loss: 0.0104 - val_categorical_accuracy: 0.9967\n",
      "Epoch 3/15\n",
      "213/213 [==============================] - 2s 9ms/step - loss: 0.0442 - categorical_accuracy: 0.9854 - val_loss: 0.0260 - val_categorical_accuracy: 0.9908\n",
      "Epoch 4/15\n",
      "213/213 [==============================] - 2s 9ms/step - loss: 0.0319 - categorical_accuracy: 0.9898 - val_loss: 0.0113 - val_categorical_accuracy: 0.9975\n",
      "Epoch 5/15\n",
      "213/213 [==============================] - 2s 10ms/step - loss: 0.0162 - categorical_accuracy: 0.9949 - val_loss: 1.1379e-04 - val_categorical_accuracy: 1.0000\n",
      "Epoch 6/15\n",
      "213/213 [==============================] - 2s 8ms/step - loss: 0.0131 - categorical_accuracy: 0.9953 - val_loss: 5.0029e-05 - val_categorical_accuracy: 1.0000\n",
      "Epoch 7/15\n",
      "213/213 [==============================] - 2s 9ms/step - loss: 0.0283 - categorical_accuracy: 0.9916 - val_loss: 0.0067 - val_categorical_accuracy: 0.9967\n",
      "Epoch 8/15\n",
      "213/213 [==============================] - 2s 9ms/step - loss: 0.0334 - categorical_accuracy: 0.9905 - val_loss: 7.2159e-04 - val_categorical_accuracy: 1.0000\n",
      "Epoch 9/15\n",
      "213/213 [==============================] - 2s 9ms/step - loss: 0.0165 - categorical_accuracy: 0.9941 - val_loss: 0.0025 - val_categorical_accuracy: 0.9996\n",
      "Epoch 10/15\n",
      "213/213 [==============================] - 2s 9ms/step - loss: 0.0094 - categorical_accuracy: 0.9974 - val_loss: 1.3897e-05 - val_categorical_accuracy: 1.0000\n",
      "Epoch 11/15\n",
      "213/213 [==============================] - 2s 9ms/step - loss: 0.0049 - categorical_accuracy: 0.9987 - val_loss: 0.0033 - val_categorical_accuracy: 0.9987\n",
      "Epoch 12/15\n",
      "213/213 [==============================] - 2s 9ms/step - loss: 0.0059 - categorical_accuracy: 0.9983 - val_loss: 8.9385e-06 - val_categorical_accuracy: 1.0000\n",
      "Epoch 13/15\n",
      "213/213 [==============================] - 2s 9ms/step - loss: 0.0412 - categorical_accuracy: 0.9882 - val_loss: 0.0066 - val_categorical_accuracy: 0.9967\n",
      "Epoch 14/15\n",
      "213/213 [==============================] - 2s 9ms/step - loss: 0.0117 - categorical_accuracy: 0.9965 - val_loss: 5.3466e-06 - val_categorical_accuracy: 1.0000\n",
      "Epoch 15/15\n",
      "213/213 [==============================] - 2s 8ms/step - loss: 0.0041 - categorical_accuracy: 0.9985 - val_loss: 1.9797e-04 - val_categorical_accuracy: 1.0000\n"
     ]
    },
    {
     "data": {
      "text/plain": [
       "<keras.callbacks.History at 0x1feb72acca0>"
      ]
     },
     "execution_count": 6,
     "metadata": {},
     "output_type": "execute_result"
    }
   ],
   "source": [
    "model.fit(X, y, epochs=15, shuffle=True, batch_size=64, validation_split=0.15, callbacks=[tb_callback])"
   ]
  },
  {
   "cell_type": "markdown",
   "id": "87ad68aa-8cad-440a-b423-03395d532dd0",
   "metadata": {
    "tags": []
   },
   "source": [
    "### Save Trained Model"
   ]
  },
  {
   "cell_type": "code",
   "execution_count": 7,
   "id": "4175dbf7-1df0-4504-bfab-a37a2219acff",
   "metadata": {},
   "outputs": [
    {
     "name": "stderr",
     "output_type": "stream",
     "text": [
      "WARNING:absl:Found untraced functions such as lstm_cell_1_layer_call_fn, lstm_cell_1_layer_call_and_return_conditional_losses, lstm_cell_2_layer_call_fn, lstm_cell_2_layer_call_and_return_conditional_losses while saving (showing 4 of 4). These functions will not be directly callable after loading.\n"
     ]
    },
    {
     "name": "stdout",
     "output_type": "stream",
     "text": [
      "INFO:tensorflow:Assets written to: trained_model_10\\assets\n"
     ]
    },
    {
     "name": "stderr",
     "output_type": "stream",
     "text": [
      "INFO:tensorflow:Assets written to: trained_model_10\\assets\n"
     ]
    }
   ],
   "source": [
    "model.save('trained_model_10')"
   ]
  },
  {
   "cell_type": "code",
   "execution_count": null,
   "id": "9851020d-b22b-4c96-89bc-9e2255009d8c",
   "metadata": {},
   "outputs": [],
   "source": []
  }
 ],
 "metadata": {
  "kernelspec": {
   "display_name": "Python 3 (ipykernel)",
   "language": "python",
   "name": "python3"
  },
  "language_info": {
   "codemirror_mode": {
    "name": "ipython",
    "version": 3
   },
   "file_extension": ".py",
   "mimetype": "text/x-python",
   "name": "python",
   "nbconvert_exporter": "python",
   "pygments_lexer": "ipython3",
   "version": "3.9.7"
  }
 },
 "nbformat": 4,
 "nbformat_minor": 5
}
