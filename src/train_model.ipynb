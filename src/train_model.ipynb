{
 "cells": [
  {
   "cell_type": "code",
   "execution_count": 15,
   "id": "03e034cb-4c9a-4523-a6a6-6a755df5a03f",
   "metadata": {},
   "outputs": [],
   "source": [
    "import numpy as np\n",
    "import os\n",
    "from tensorflow.keras.utils import to_categorical\n",
    "from tensorflow.keras.models import Sequential\n",
    "from tensorflow.keras.layers import Bidirectional, LSTM, Dense, Dropout, Flatten, TimeDistributed\n",
    "from tensorflow.keras.optimizers import Adam\n",
    "from tensorflow.keras.callbacks import TensorBoard"
   ]
  },
  {
   "cell_type": "code",
   "execution_count": 29,
   "id": "dc70541d-0eb1-41a7-8a38-fd1d7bab40b9",
   "metadata": {},
   "outputs": [
    {
     "name": "stdout",
     "output_type": "stream",
     "text": [
      "(16000, 30, 144) (16000, 10)\n"
     ]
    }
   ],
   "source": [
    "# load processed data\n",
    "X = np.load('data/augmented_data/X.npy')\n",
    "y = to_categorical(np.load('data/augmented_data/y.npy')) # was labels\n",
    "\n",
    "# check shape\n",
    "print(X.shape, y.shape)"
   ]
  },
  {
   "cell_type": "markdown",
   "id": "d06173bb-b722-497c-bef5-62c604777af1",
   "metadata": {},
   "source": [
    "### Build RNN Model (LSTM)"
   ]
  },
  {
   "cell_type": "code",
   "execution_count": 30,
   "id": "8acd4d43-7714-4769-835c-a16d3676002c",
   "metadata": {},
   "outputs": [],
   "source": [
    "log_dir = os.path.join('Logs')\n",
    "tb_callback = TensorBoard(log_dir=log_dir)"
   ]
  },
  {
   "cell_type": "code",
   "execution_count": 31,
   "id": "ea4fed32-92e1-499b-a4d9-d9209fc0f00a",
   "metadata": {},
   "outputs": [
    {
     "name": "stdout",
     "output_type": "stream",
     "text": [
      "Model: \"sequential_6\"\n",
      "_________________________________________________________________\n",
      " Layer (type)                Output Shape              Param #   \n",
      "=================================================================\n",
      " bidirectional_6 (Bidirectio  (None, 30, 256)          279552    \n",
      " nal)                                                            \n",
      "                                                                 \n",
      " time_distributed_6 (TimeDis  (None, 30, 128)          32896     \n",
      " tributed)                                                       \n",
      "                                                                 \n",
      " flatten_6 (Flatten)         (None, 3840)              0         \n",
      "                                                                 \n",
      " dense_22 (Dense)            (None, 256)               983296    \n",
      "                                                                 \n",
      " dense_23 (Dense)            (None, 64)                16448     \n",
      "                                                                 \n",
      " dense_24 (Dense)            (None, 10)                650       \n",
      "                                                                 \n",
      "=================================================================\n",
      "Total params: 1,312,842\n",
      "Trainable params: 1,312,842\n",
      "Non-trainable params: 0\n",
      "_________________________________________________________________\n"
     ]
    }
   ],
   "source": [
    "model = Sequential()\n",
    "model.add(Bidirectional(LSTM (128, return_sequences=True, dropout=0.50), input_shape=(30,144)))\n",
    "model.add(TimeDistributed(Dense(128, activation='relu')))\n",
    "model.add(Flatten())\n",
    "model.add(Dense(256, activation='relu'))\n",
    "model.add(Dense(64, activation='relu'))\n",
    "model.add(Dense(10, activation='softmax'))\n",
    "\n",
    "model.compile(optimizer='Adam', loss='categorical_crossentropy', metrics=['categorical_accuracy'])\n",
    "\n",
    "model.summary()"
   ]
  },
  {
   "cell_type": "code",
   "execution_count": 32,
   "id": "4058c98a-19cd-4fd5-a171-37c8c62cd064",
   "metadata": {},
   "outputs": [
    {
     "name": "stdout",
     "output_type": "stream",
     "text": [
      "Epoch 1/15\n",
      "213/213 [==============================] - 17s 66ms/step - loss: 0.4440 - categorical_accuracy: 0.8309 - val_loss: 0.0705 - val_categorical_accuracy: 0.9796\n",
      "Epoch 2/15\n",
      "213/213 [==============================] - 14s 65ms/step - loss: 0.0757 - categorical_accuracy: 0.9765 - val_loss: 0.0274 - val_categorical_accuracy: 0.9883\n",
      "Epoch 3/15\n",
      "213/213 [==============================] - 14s 65ms/step - loss: 0.0436 - categorical_accuracy: 0.9853 - val_loss: 0.0018 - val_categorical_accuracy: 1.0000\n",
      "Epoch 4/15\n",
      "213/213 [==============================] - 14s 65ms/step - loss: 0.0300 - categorical_accuracy: 0.9900 - val_loss: 0.0173 - val_categorical_accuracy: 0.9937\n",
      "Epoch 5/15\n",
      "213/213 [==============================] - 14s 65ms/step - loss: 0.0143 - categorical_accuracy: 0.9950 - val_loss: 0.0340 - val_categorical_accuracy: 0.9887\n",
      "Epoch 6/15\n",
      "213/213 [==============================] - 14s 65ms/step - loss: 0.0257 - categorical_accuracy: 0.9913 - val_loss: 0.0121 - val_categorical_accuracy: 0.9954\n",
      "Epoch 7/15\n",
      "213/213 [==============================] - 14s 65ms/step - loss: 0.0143 - categorical_accuracy: 0.9952 - val_loss: 0.0308 - val_categorical_accuracy: 0.9883\n",
      "Epoch 8/15\n",
      "213/213 [==============================] - 14s 66ms/step - loss: 0.0102 - categorical_accuracy: 0.9971 - val_loss: 6.4443e-04 - val_categorical_accuracy: 1.0000\n",
      "Epoch 9/15\n",
      "213/213 [==============================] - 14s 65ms/step - loss: 0.0066 - categorical_accuracy: 0.9984 - val_loss: 0.0016 - val_categorical_accuracy: 0.9996\n",
      "Epoch 10/15\n",
      "213/213 [==============================] - 14s 65ms/step - loss: 0.0097 - categorical_accuracy: 0.9966 - val_loss: 0.0095 - val_categorical_accuracy: 0.9962\n",
      "Epoch 11/15\n",
      "213/213 [==============================] - 14s 65ms/step - loss: 0.0413 - categorical_accuracy: 0.9871 - val_loss: 0.0022 - val_categorical_accuracy: 0.9996\n",
      "Epoch 12/15\n",
      "213/213 [==============================] - 14s 65ms/step - loss: 0.0035 - categorical_accuracy: 0.9990 - val_loss: 1.9343e-05 - val_categorical_accuracy: 1.0000\n",
      "Epoch 13/15\n",
      "213/213 [==============================] - 14s 65ms/step - loss: 0.0131 - categorical_accuracy: 0.9959 - val_loss: 0.0678 - val_categorical_accuracy: 0.9908\n",
      "Epoch 14/15\n",
      "213/213 [==============================] - 14s 65ms/step - loss: 0.0142 - categorical_accuracy: 0.9963 - val_loss: 0.0028 - val_categorical_accuracy: 0.9987\n",
      "Epoch 15/15\n",
      "213/213 [==============================] - 14s 67ms/step - loss: 0.0085 - categorical_accuracy: 0.9976 - val_loss: 4.5479e-06 - val_categorical_accuracy: 1.0000\n"
     ]
    },
    {
     "data": {
      "text/plain": [
       "<keras.callbacks.History at 0x1c5c8e1ae80>"
      ]
     },
     "execution_count": 32,
     "metadata": {},
     "output_type": "execute_result"
    }
   ],
   "source": [
    "model.fit(X, y, epochs=15, shuffle=True, batch_size=64, validation_split=0.15, callbacks=[tb_callback])"
   ]
  },
  {
   "cell_type": "markdown",
   "id": "87ad68aa-8cad-440a-b423-03395d532dd0",
   "metadata": {
    "tags": []
   },
   "source": [
    "### Save Trained Model"
   ]
  },
  {
   "cell_type": "code",
   "execution_count": 39,
   "id": "4175dbf7-1df0-4504-bfab-a37a2219acff",
   "metadata": {},
   "outputs": [
    {
     "name": "stderr",
     "output_type": "stream",
     "text": [
      "WARNING:absl:Found untraced functions such as lstm_cell_19_layer_call_fn, lstm_cell_19_layer_call_and_return_conditional_losses, lstm_cell_20_layer_call_fn, lstm_cell_20_layer_call_and_return_conditional_losses while saving (showing 4 of 4). These functions will not be directly callable after loading.\n"
     ]
    },
    {
     "name": "stdout",
     "output_type": "stream",
     "text": [
      "INFO:tensorflow:Assets written to: trained_model\\assets\n"
     ]
    },
    {
     "name": "stderr",
     "output_type": "stream",
     "text": [
      "INFO:tensorflow:Assets written to: trained_model\\assets\n",
      "WARNING:absl:<keras.layers.recurrent.LSTMCell object at 0x000001C5C8374160> has the same name 'LSTMCell' as a built-in Keras object. Consider renaming <class 'keras.layers.recurrent.LSTMCell'> to avoid naming conflicts when loading with `tf.keras.models.load_model`. If renaming is not possible, pass the object in the `custom_objects` parameter of the load function.\n",
      "WARNING:absl:<keras.layers.recurrent.LSTMCell object at 0x000001C559000FD0> has the same name 'LSTMCell' as a built-in Keras object. Consider renaming <class 'keras.layers.recurrent.LSTMCell'> to avoid naming conflicts when loading with `tf.keras.models.load_model`. If renaming is not possible, pass the object in the `custom_objects` parameter of the load function.\n"
     ]
    }
   ],
   "source": [
    "model.save('trained_model')"
   ]
  }
 ],
 "metadata": {
  "kernelspec": {
   "display_name": "Python 3 (ipykernel)",
   "language": "python",
   "name": "python3"
  },
  "language_info": {
   "codemirror_mode": {
    "name": "ipython",
    "version": 3
   },
   "file_extension": ".py",
   "mimetype": "text/x-python",
   "name": "python",
   "nbconvert_exporter": "python",
   "pygments_lexer": "ipython3",
   "version": "3.9.7"
  }
 },
 "nbformat": 4,
 "nbformat_minor": 5
}
